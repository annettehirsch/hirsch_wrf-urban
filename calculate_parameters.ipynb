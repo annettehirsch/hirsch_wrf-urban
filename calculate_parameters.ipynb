{
 "cells": [
  {
   "cell_type": "markdown",
   "metadata": {},
   "source": [
    "## Use data from OEH to obtain reasonable estimates for vegetation fraction, building height, building albedo and anthropogenic heat for LCZs"
   ]
  },
  {
   "cell_type": "code",
   "execution_count": 1,
   "metadata": {},
   "outputs": [],
   "source": [
    "# Suppress warnings\n",
    "import warnings\n",
    "warnings.filterwarnings(\"ignore\")\n",
    "\n",
    "import PyQt5\n",
    "import netCDF4 as nc\n",
    "import numpy as np\n",
    "import scipy\n",
    "import os\n",
    "import sys\n",
    "import matplotlib\n",
    "import xarray\n",
    "import shapefile\n",
    "import datetime as dt\n",
    "import pandas as pd # For reading the csv files\n",
    "\n",
    "import matplotlib.pyplot as plt\n",
    "from matplotlib.colors import BoundaryNorm\n",
    "from matplotlib.ticker import MaxNLocator\n",
    "import matplotlib as mpl\n",
    "import matplotlib.lines as mlines\n",
    "from matplotlib import colors\n",
    "from matplotlib import cm\n",
    "from mpl_toolkits.axes_grid1.inset_locator import inset_axes\n",
    "import matplotlib.gridspec as gridspec\n",
    "import cartopy.crs as ccrs\n",
    "\n",
    "from shapely.geometry import Point, Polygon # for the polygons within the csv files\n",
    "\n",
    "from scipy import stats\n",
    "from scipy import interpolate\n",
    "import math\n",
    "import scipy.io as sio\n",
    "\n",
    "import glob as glob\n"
   ]
  },
  {
   "cell_type": "markdown",
   "metadata": {},
   "source": [
    "## Functions"
   ]
  },
  {
   "cell_type": "code",
   "execution_count": 2,
   "metadata": {},
   "outputs": [],
   "source": [
    "def plot_LCZs(data,lat,lon,mx,mn):\n",
    "    # Figure formatting\n",
    "    plt.rcParams['savefig.dpi']=500\n",
    "    plt.rcParams[\"font.weight\"] = \"bold\"\n",
    "    plt.rcParams[\"axes.labelweight\"] = \"bold\"\n",
    "\n",
    "    # Set up projection\n",
    "    plotcrs = ccrs.PlateCarree(central_longitude=150)\n",
    "    gs = mpl.gridspec.GridSpec(nrows=1,ncols=1)\n",
    "    fig = plt.figure(figsize=(15.0,15.0))\n",
    "    ax1 = fig.add_subplot(gs[0,0],projection=plotcrs)\n",
    "    cm1 = ax1.pcolormesh(lon,lat,data,vmin=mn,vmax=mx,cmap='tab20',norm=BoundaryNorm(MaxNLocator(nbins=(mx-mn+1)).tick_values(mn,mx), ncolors=plt.get_cmap('tab20').N, clip=True), transform=ccrs.PlateCarree())\n",
    "    plt.colorbar(cm1)"
   ]
  },
  {
   "cell_type": "code",
   "execution_count": 3,
   "metadata": {},
   "outputs": [],
   "source": [
    "from collections import Counter\n",
    "\n",
    "def Most_Common(lst):\n",
    "    data = Counter(lst)\n",
    "    return data.most_common(1)[0][0]"
   ]
  },
  {
   "cell_type": "code",
   "execution_count": 4,
   "metadata": {},
   "outputs": [],
   "source": [
    "from matplotlib import path\n",
    "# The following function was found on 20.05.2019    \n",
    "#https://gis.stackexchange.com/questions/71630/subsetting-a-curvilinear-netcdf-file-roms-model-output-using-a-lon-lat-boundin\n",
    "def bbox2ij(lon,lat,bbox=[-160., -155., 18., 23.]):\n",
    "    \"\"\"Return indices for i,j that will completely cover the specified bounding box.     \n",
    "    i0,i1,j0,j1 = bbox2ij(lon,lat,bbox)\n",
    "    lon,lat = 2D arrays that are the target of the subset\n",
    "    bbox = list containing the bounding box: [lon_min, lon_max, lat_min, lat_max]\n",
    "\n",
    "    Example\n",
    "    -------  \n",
    "    >>> i0,i1,j0,j1 = bbox2ij(lon_rho,[-71, -63., 39., 46])\n",
    "    >>> h_subset = nc.variables['h'][j0:j1,i0:i1]       \n",
    "    \"\"\"\n",
    "    \n",
    "    bbox=np.array(bbox)\n",
    "    mypath=np.array([bbox[[0,1,1,0]],bbox[[2,2,3,3]]]).T\n",
    "    p = path.Path(mypath)\n",
    "    points = np.vstack((lon.flatten(),lat.flatten())).T   \n",
    "    n,m = np.shape(lon)\n",
    "    inside = p.contains_points(points).reshape((n,m))\n",
    "    ii,jj = np.meshgrid(range(m),range(n))\n",
    "    return min(ii[inside]),max(ii[inside]),min(jj[inside]),max(jj[inside])"
   ]
  },
  {
   "cell_type": "markdown",
   "metadata": {},
   "source": [
    "## Read in the common inputs"
   ]
  },
  {
   "cell_type": "code",
   "execution_count": 5,
   "metadata": {},
   "outputs": [],
   "source": [
    "maindir = \"/g/data/w97/azh561/urban/input_parameters/\""
   ]
  },
  {
   "cell_type": "markdown",
   "metadata": {},
   "source": [
    "Read in the LCZs file, for Sydney need to remove duplicated areas as we are combining two images"
   ]
  },
  {
   "cell_type": "code",
   "execution_count": 6,
   "metadata": {},
   "outputs": [],
   "source": [
    "lczdir = \"%s/LCZs\" %(maindir)\n",
    "topfilename = \"%s/sydney_top.nc\" %(lczdir)\n",
    "botfilename = \"%s/sydney_bottom.nc\" %(lczdir)\n",
    "\n",
    "# Read in the netcdf files\n",
    "\n",
    "topfile = nc.Dataset(topfilename,'r')\n",
    "topdata = topfile.variables['Band1']\n",
    "toplat = topfile.variables['lat']\n",
    "toplon = topfile.variables['lon']\n",
    "\n",
    "# 1 = Dense Trees\n",
    "# 2 = Sparsely Built\n",
    "# 3 = Water (top data)\n",
    "# 4 = Open lowrise (top data)\n",
    "# 5 = Lightweight lowrise (top data)\n",
    "# 6 = heavy industry (top data)\n",
    "# 7 = large lowrise (top data)\n",
    "# 8 = Low plants (top data)\n",
    "# 9 = Scattered trees (top data)\n",
    "# 10 = compact lowrise (top data)\n",
    "# 11 = compact highrise (top data)\n",
    "# 12 = compact midrise (top data)\n",
    "# 13 = open highrise(top data)\n",
    "\n",
    "botfile = nc.Dataset(botfilename,'r')\n",
    "botdata = botfile.variables['Band1']\n",
    "botlat = botfile.variables['lat']\n",
    "botlon = botfile.variables['lon']\n",
    "\n",
    "# 1 = Dense Trees\n",
    "# 2 = Sparsely Built\n",
    "# 3 = Low plants (bottom data)\n",
    "# 4 = Scattered trees (bottom data)\n",
    "# 5 = open lowrise (bottom data)\n",
    "# 6 = compact lowrise (bottom data)\n",
    "# 7 = lightweight lowrise (bottom data)\n",
    "# 8 = heavy industry (bottom data)\n",
    "# 9 = large lowrise (bottom data)\n",
    "# 10 = open highrise (bottom data)\n",
    "# 11 = Water (bottom data)\n",
    "# 12 = Compact midrise(bottom data)\n",
    "# 13 = Compact highrise (bottom data)\n",
    "\n",
    "# Quick plot of the data to determine classifications\n",
    "#plot_LCZs(np.ma.masked_where(topdata[:,:] > 1,topdata),toplat,toplon,14,0)\n",
    "#plot_LCZs(np.ma.masked_where(botdata[:,:] > 1,botdata),botlat,botlon,14,0)"
   ]
  },
  {
   "cell_type": "markdown",
   "metadata": {},
   "source": [
    "## Remap the Sydney maps to the following:\n",
    "\n",
    "* 1 = Compact high-rise\n",
    "* 2 = Compact midrise\n",
    "* 3 = Compact lowrise\n",
    "* 4 = Open high-rise\n",
    "* 5 = Open mid-rise  # NOT PRESENT IN SYDNEY\n",
    "* 6 = Open low-rise\n",
    "* 7 = lightweight low-rise\n",
    "* 8 = Large low-rise\n",
    "* 9 = Sparsely built\n",
    "* 10 = heavy industry\n",
    "\n",
    "The following are vegetation classes but will be set to nan\n",
    "\n",
    "* 11/A = Dense trees\n",
    "* 12/B = Scattered trees\n",
    "* 13/C Bush/scrub\n",
    "* 14/D low plants\n",
    "* 15/E Bare rock or paved\n",
    "* 16/F Bare soil or sand\n",
    "* 17/ G water"
   ]
  },
  {
   "cell_type": "code",
   "execution_count": 7,
   "metadata": {},
   "outputs": [],
   "source": [
    "# Topdata total number of points: 800*962 = 769600; Nan = 314021\n",
    "\n",
    "tmp0 = topdata[:,:]\n",
    "tmp1 = np.where(tmp0==1,111,tmp0) # 1 = Dense Trees - 134288 pts\n",
    "tmp2 = np.where(tmp1==2,109,tmp1) # 2 = Sparsely Built - 87466 pts\n",
    "tmp3 = np.where(tmp2==3,117,tmp2) # 3 = Water (top data) - 81982\n",
    "tmp4 = np.where(tmp3==4,106,tmp3) # 4 = Open lowrise (top data) - 89693\n",
    "####tmp5 = np.where(tmp4==5,107,tmp4) # 5 = Lightweight lowrise (top data) - 5439\n",
    "tmp5 = np.where(tmp4==5,116,tmp4) # 16/F Bare soil or sand (top data) - 5439\n",
    "tmp6 = np.where(tmp5==6,110,tmp5) # 6 = heavy industry (top data) - 4956\n",
    "tmp7 = np.where(tmp6==7,108,tmp6) # 7 = large lowrise (top data) - 11986\n",
    "tmp8 = np.where(tmp7==8,114,tmp7) # 8 = Low plants (top data) - 12807\n",
    "tmp9 = np.where(tmp8==9,112,tmp8) # 9 = Scattered trees (top data) - 7721\n",
    "tmp10 = np.where(tmp9==10,103,tmp9) # 10 = compact lowrise (top data) - 17534\n",
    "tmp11 = np.where(tmp10==11,101,tmp10) # 11 = compact highrise (top data) - 851\n",
    "tmp12 = np.where(tmp11==12,102,tmp11) # 12 = compact midrise (top data) - 541\n",
    "tmp13 = np.where(tmp12==13,104,tmp12) # 13 = open highrise(top data) - 315\n",
    "\n",
    "newtop = np.ma.masked_where((tmp13 - 100)>100,(tmp13 - 100))\n",
    "\n",
    "# To determine number of points in original and remapped: np.sum(np.where(topdata[:,:] == X,1,0))\n",
    "\n",
    "#1 = Compact high-rise - 851\n",
    "#2 = Compact midrise - 541\n",
    "#3 = Compact lowrise - 17534\n",
    "#4 = Open high-rise - 315\n",
    "#5 = Open mid-rise - 0\n",
    "#6 = Open low-rise - 89693\n",
    "#7 = lightweight low-rise - 5439\n",
    "#8 = Large low-rise - 11986\n",
    "#9 = Sparsely built - 87466\n",
    "#10 = heavy industry - 4956\n",
    "#11/A = Dense trees - 134288\n",
    "#12/B = Scattered trees - 7721\n",
    "#13/C Bush/scrub - 0\n",
    "#14/D low plants - 12807\n",
    "#15/E Bare rock or paved - 0\n",
    "#16/F Bare soil or sand - 0\n",
    "#17/ G water - 81982\n",
    "\n",
    "#plot_LCZs(newtop,toplat,toplon,17,1)"
   ]
  },
  {
   "cell_type": "code",
   "execution_count": 8,
   "metadata": {},
   "outputs": [],
   "source": [
    "# Botdata total number of points: 635 * 909 = 577215; Nan = 64945\n",
    "\n",
    "bmp0 = botdata[:,:]\n",
    "bmp1 = np.where(bmp0==1,111,bmp0) # 1 = Dense Trees - 105351\n",
    "bmp2 = np.where(bmp1==2,109,bmp1) # 2 = Sparsely Built - 87193\n",
    "bmp3 = np.where(bmp2==3,114,bmp2) # 3 = Low plants (bottom data) - 33231\n",
    "bmp4 = np.where(bmp3==4,112,bmp3) # 4 = Scattered trees (bottom data) - 33583\n",
    "bmp5 = np.where(bmp4==5,106,bmp4) # 5 = open lowrise (bottom data) - 101539\n",
    "bmp6 = np.where(bmp5==6,103,bmp5) # 6 = compact lowrise (bottom data) - 27816\n",
    "####bmp7 = np.where(bmp6==7,107,bmp6) # 7 = lightweight lowrise (bottom data) - 5441\n",
    "bmp7 = np.where(bmp6==7,116,bmp6) # 716/F Bare soil or sand (bottom data) - 5441\n",
    "bmp8 = np.where(bmp7==8,110,bmp7) # 8 = heavy industry (bottom data) - 2555\n",
    "bmp9 = np.where(bmp8==9,108,bmp8) # 9 = large lowrise (bottom data) - 18356\n",
    "bmp10 = np.where(bmp9==10,104,bmp9) # 10 = open highrise (bottom data) - 1119\n",
    "bmp11 = np.where(bmp10==11,117,bmp10) # 11 = Water (bottom data) - 94275\n",
    "bmp12 = np.where(bmp11==12,102,bmp11) # 12 = Compact midrise(bottom data) - 930\n",
    "bmp13 = np.where(bmp12==13,101,bmp12) # 13 = Compact highrise (bottom data) - 881\n",
    "\n",
    "newbot = np.ma.masked_where((bmp13 - 100)>100,(bmp13 - 100))\n",
    "\n",
    "# To determine number of points in original and remapped: np.sum(np.where(topdata[:,:] == X,1,0))\n",
    "\n",
    "#1 = Compact high-rise - 881\n",
    "#2 = Compact midrise - 930\n",
    "#3 = Compact lowrise - 27816\n",
    "#4 = Open high-rise - 1119\n",
    "#5 = Open mid-rise - 0\n",
    "#6 = Open low-rise - 101539\n",
    "#7 = lightweight low-rise - 5441\n",
    "#8 = Large low-rise - 18356\n",
    "#9 = Sparsely built - 87193\n",
    "#10 = heavy industry - 2555\n",
    "#11/A = Dense trees - 105351\n",
    "#12/B = Scattered trees - 33583\n",
    "#13/C Bush/scrub - 0\n",
    "#14/D low plants - 33231\n",
    "#15/E Bare rock or paved - 0\n",
    "#16/F Bare soil or sand - 0\n",
    "#17/ G water - 94275\n",
    "\n",
    "#plot_LCZs(newbot,botlat,botlon,17,1)"
   ]
  },
  {
   "cell_type": "markdown",
   "metadata": {},
   "source": [
    "## Combine the Sydney top and bottom and remove duplicate points"
   ]
  },
  {
   "cell_type": "code",
   "execution_count": 9,
   "metadata": {},
   "outputs": [],
   "source": [
    "# First find the grid extent\n",
    "latX=np.max([np.max(toplat),np.max(botlat)])\n",
    "latN=np.min([np.min(toplat),np.min(botlat)])\n",
    "lonX=np.max([np.max(toplon),np.max(botlon)])\n",
    "lonN=np.min([np.min(toplon),np.min(botlon)])\n",
    "dlat = 0.000919 #toplat[0]-toplat[1]\n",
    "dlon = 0.000919 #toplon[0]-toplon[1]\n",
    "\n",
    "# Create new grid\n",
    "lat = np.arange(latN,latX,dlat)\n",
    "lon = np.arange(lonN,lonX,dlon)\n",
    "\n",
    "# Convert lat/lon to 2D arrays\n",
    "toplon2d,toplat2d = np.meshgrid(toplon,toplat)\n",
    "botlon2d,botlat2d = np.meshgrid(botlon,botlat)\n",
    "lon2d,lat2d = np.meshgrid(lon,lat)\n",
    "coord_1di=np.vstack([lon2d.flatten(),lat2d.flatten()])\n",
    "     \n",
    "# Interpolate to the new grid and mask\n",
    "topregrid=np.ones((lat2d.shape[0],lat2d.shape[1]))\n",
    "topregrid[:,:]=scipy.interpolate.griddata((toplon2d.flatten(),toplat2d.flatten()),newtop[:,:].flatten(),coord_1di.T,method='nearest').reshape(lon2d.shape)\n",
    "topma = np.ma.masked_where(topregrid>100,topregrid)\n",
    "botregrid=np.ones((lat2d.shape[0],lat2d.shape[1]))\n",
    "botregrid[:,:]=scipy.interpolate.griddata((botlon2d.flatten(),botlat2d.flatten()),newbot[:,:].flatten(),coord_1di.T,method='nearest').reshape(lon2d.shape)\n",
    "botma = np.ma.masked_where(botregrid>100,botregrid)\n"
   ]
  },
  {
   "cell_type": "markdown",
   "metadata": {},
   "source": [
    "Merge top and bottom"
   ]
  },
  {
   "cell_type": "code",
   "execution_count": 10,
   "metadata": {},
   "outputs": [
    {
     "data": {
      "image/png": "[encoded data removed]",
      "text/plain": [
       "<Figure size 1080x1080 with 2 Axes>"
      ]
     },
     "metadata": {
      "needs_background": "light"
     },
     "output_type": "display_data"
    }
   ],
   "source": [
    "mergeLCZ=np.empty((lat.shape[0],lon.shape[0]))\n",
    "mergeLCZ[370:,:] = topma[370:,:]\n",
    "mergeLCZ[:370,:] = botma[:370,:]\n",
    "\n",
    "mamergeLCZ=np.where(mergeLCZ>=100,np.nan,mergeLCZ)\n",
    "\n",
    "plot_LCZs(mamergeLCZ,lat,lon,17,1)"
   ]
  },
  {
   "cell_type": "markdown",
   "metadata": {},
   "source": [
    "Write new Sydney grid to netcdf"
   ]
  },
  {
   "cell_type": "code",
   "execution_count": 11,
   "metadata": {},
   "outputs": [],
   "source": [
    "dataset = nc.Dataset('%s/sydney_merged.nc' %(lczdir),'w')\n",
    "\n",
    "# Create dimensions\n",
    "latitude = dataset.createDimension('latitude',lat.shape[0])\n",
    "longitude = dataset.createDimension('longitude',lon.shape[0])\n",
    "\n",
    "# Create coordinate variables\n",
    "lat1d = dataset.createVariable('lat1d',np.float64,('latitude',))\n",
    "lon1d = dataset.createVariable('lon1d',np.float64,('longitude',))\n",
    "\n",
    "# Create variables\n",
    "LCZ = dataset.createVariable('LCZ', np.float64,('latitude','longitude'))\n",
    "\n",
    "# Write data\n",
    "LCZ[:] = mamergeLCZ[:]\n",
    "lat1d[:] = lat[:]\n",
    "lon1d[:] = lon[:]\n",
    "\n",
    "# Write the file\n",
    "dataset.close()"
   ]
  },
  {
   "cell_type": "markdown",
   "metadata": {},
   "source": [
    "Write new Sydney grid to text file"
   ]
  },
  {
   "cell_type": "code",
   "execution_count": 12,
   "metadata": {},
   "outputs": [],
   "source": [
    "# Put all relevant variables into 1D\n",
    "mergeLCZ_1di = np.vstack([lon2d.flatten(),lat2d.flatten(),mamergeLCZ.flatten()])\n",
    "# mergeLCZ_1di.shape = (3, 768638)\n",
    "\n",
    "np.savetxt('%s/sydney_merged.txt' %(lczdir), (mergeLCZ_1di.T), delimiter = ' ',header = \"X Y LCZ\", fmt = '%0.8f %0.8f %s')\n"
   ]
  },
  {
   "cell_type": "markdown",
   "metadata": {},
   "source": [
    "## Get grid points corresponding to each LCZ"
   ]
  },
  {
   "cell_type": "code",
   "execution_count": 11,
   "metadata": {},
   "outputs": [],
   "source": [
    "# The following creates arrays where the LCZ category is true\n",
    "LCZ1 = list(np.where(mamergeLCZ.flatten() == 1)[0]) # 994\n",
    "LCZ2 = list(np.where(mamergeLCZ.flatten() == 2)[0]) # 859\n",
    "LCZ3 = list(np.where(mamergeLCZ.flatten() == 3)[0]) # 25401\n",
    "LCZ4 = list(np.where(mamergeLCZ.flatten() == 4)[0]) # 950\n",
    "LCZ5 = list(np.where(mamergeLCZ.flatten() == 5)[0]) # 0\n",
    "LCZ6 = list(np.where(mamergeLCZ.flatten() == 6)[0]) # 110769\n",
    "LCZ7 = list(np.where(mamergeLCZ.flatten() == 7)[0]) # 7349\n",
    "LCZ8 = list(np.where(mamergeLCZ.flatten() == 8)[0]) # 17245\n",
    "LCZ9 = list(np.where(mamergeLCZ.flatten() == 9)[0]) # 128645\n",
    "LCZ10 = list(np.where(mamergeLCZ.flatten() == 10)[0]) # 4353\n",
    "\n",
    "# Use poly.contains for LCZ1, LCZ2, LCZ3, LCZ4, LCZ7, LCZ8, LCZ10\n",
    "# Use pt.within for LCZ6, LCZ9"
   ]
  },
  {
   "cell_type": "code",
   "execution_count": 13,
   "metadata": {},
   "outputs": [
    {
     "data": {
      "text/plain": [
       "994"
      ]
     },
     "execution_count": 13,
     "metadata": {},
     "output_type": "execute_result"
    }
   ],
   "source": [
    "len(LCZ1)"
   ]
  },
  {
   "cell_type": "markdown",
   "metadata": {},
   "source": [
    "## Estimate median building height for each LCZ"
   ]
  },
  {
   "cell_type": "code",
   "execution_count": null,
   "metadata": {},
   "outputs": [],
   "source": [
    "hobfile = '%s/dpie_building_height.csv' %(maindir)\n",
    "\n",
    "# Column Names: LGA_CODE,LGA_NAME,SYM_CODE,MAX_B_H,UNITS,CADID,vertex_index,vertex_part,vertex_part_ring,vertex_part_index,xcoord,ycoord\n",
    "\n",
    "hobdf = pd.read_csv(hobfile)\n",
    "hob = hobdf.MAX_B_H\n",
    "hoblon = hobdf.xcoord # ddd.ddddd\n",
    "hoblat = hobdf.ycoord # ddd.ddddd\n",
    "hobvertind = hobdf.vertex_index\n",
    "hobvertind0 = list(np.where(hobvertind[:] == 0)[0])\n",
    "numpoly = len(hobvertind0)\n",
    "z = zip(hoblon[:],hoblat[:])\n",
    "hoblonlat = [list(pair) for pair in z]"
   ]
  },
  {
   "cell_type": "markdown",
   "metadata": {},
   "source": [
    "shapely.geometry has some useful features to try: https://automating-gis-processes.github.io/CSC18/lessons/L4/point-in-polygon.html\n",
    "\n",
    "- n_polygon > n_points then loop through the points and use poly.contains(pt)\n",
    "\n",
    "- n_polygon < n_points then loop through the polygons and use pt.within(poly)\n"
   ]
  },
  {
   "cell_type": "markdown",
   "metadata": {},
   "source": [
    "#### Using poly.contains(pt)"
   ]
  },
  {
   "cell_type": "code",
   "execution_count": null,
   "metadata": {},
   "outputs": [],
   "source": [
    "# This methods runs faster than try to reduce the number of points\n",
    "# Use poly.contains for LCZ1, LCZ2, LCZ3, LCZ4, LCZ7, LCZ8, LCZ10\n",
    "LCZ9hob = np.array([])\n",
    "\n",
    "start_time = dt.datetime.now()\n",
    "\n",
    "#for pp in range(len(LCZ6)): \n",
    "#for pp in np.arange(0,20000,1): # hob_LCZ6_001.txt\n",
    "#for pp in np.arange(20000,40000,1): # hob_LCZ6_002.txt\n",
    "#for pp in np.arange(40000,60000,1): # hob_LCZ6_003.txt\n",
    "#for pp in np.arange(60000,80000,1): # hob_LCZ6_004.txt\n",
    "#for pp in np.arange(80000,100000,1): # hob_LCZ6_005.txt    \n",
    "#for pp in np.arange(100000,110769,1): # hob_LCZ6_006.txt\n",
    "#for pp in np.arange(0,25000,1): # hob_LCZ9_001.txt\n",
    "#for pp in np.arange(25000,50000,1): # hob_LCZ9_002.txt\n",
    "#for pp in np.arange(50000,75000,1): # hob_LCZ9_003.txt\n",
    "#for pp in np.arange(75000,100000,1): # hob_LCZ9_004.txt\n",
    "#for pp in np.arange(100000,125000,1): # hob_LCZ9_005.txt\n",
    "for pp in np.arange(125000,128645,1): # hob_LCZ9_006.txt\n",
    "\n",
    "    pt = Point(lon2d.flatten()[LCZ9][pp],lat2d.flatten()[LCZ9][pp])\n",
    "\n",
    "    for ss in range(numpoly):\n",
    "\n",
    "        if ss == numpoly-1:\n",
    "            break\n",
    "            \n",
    "        coords = hoblonlat[hobvertind0[ss]:hobvertind0[ss+1]]\n",
    "        poly = Polygon(coords)\n",
    "    \n",
    "        if poly.contains(pt) == True:\n",
    "            LCZ9hob = np.append(LCZ9hob,hob[hobvertind0[ss]])\n",
    "            break\n",
    "        \n",
    "        del coords,poly\n",
    "        \n",
    "    del pt\n",
    "\n",
    "end_time = dt.datetime.now()\n",
    "print('Duration: {}'.format(end_time - start_time))\n",
    "\n",
    "np.savetxt('hob_LCZ9_006.txt', (LCZ9hob), delimiter = ' ', fmt = '%0.1f')\n",
    "\n",
    "del LCZ9hob"
   ]
  },
  {
   "cell_type": "markdown",
   "metadata": {},
   "source": [
    "Building Height LCZ1"
   ]
  },
  {
   "cell_type": "code",
   "execution_count": null,
   "metadata": {},
   "outputs": [],
   "source": [
    "LCZ1hob = pd.read_csv('hob_LCZ1.txt',header=None)[0]\n",
    "#[np.median(LCZ1hob), np.mean(LCZ1hob) , Most_Common(LCZ1hob), np.median(LCZ1hob[LCZ1hob>=25.]), np.mean(LCZ1hob[LCZ1hob>=25.]), Most_Common(LCZ1hob[LCZ1hob>=25.])]\n",
    "#[12.0, 39.14440677966102, 8.5, 80.0, 101.77083333333333, 80.0]\n",
    "\n",
    "# np.median(LCZ1hob[LCZ1hob>=25.]) =  80.0\n",
    "# np.std(LCZ1hob[LCZ1hob>=25.]) = 67.58"
   ]
  },
  {
   "cell_type": "markdown",
   "metadata": {},
   "source": [
    "Building Height LCZ2"
   ]
  },
  {
   "cell_type": "code",
   "execution_count": null,
   "metadata": {},
   "outputs": [],
   "source": [
    "LCZ2hob = pd.read_csv('hob_LCZ2.txt',header=None)[0]\n",
    "#[np.median(LCZ2hob), np.mean(LCZ2hob) , Most_Common(LCZ2hob), np.median(LCZ2hob[LCZ2hob>=10.]), np.mean(LCZ2hob[LCZ2hob>=10.]), Most_Common(LCZ2hob[LCZ2hob>=10.])]\n",
    "#[12.0, 18.171693735498838, 8.5, 16.0, 23.887867647058822, 12.0]\n",
    "\n",
    "# np.median(LCZ2hob[LCZ2hob>=10.]) = 16.0\n",
    "# np.std(LCZ2hob[LCZ2hob>=10.]) = 20.96"
   ]
  },
  {
   "cell_type": "markdown",
   "metadata": {},
   "source": [
    "Building Height LCZ3"
   ]
  },
  {
   "cell_type": "code",
   "execution_count": null,
   "metadata": {},
   "outputs": [],
   "source": [
    "LCZ3hob = pd.read_csv('hob_LCZ3.txt',header=None)[0]\n",
    "#[np.median(LCZ3hob), np.mean(LCZ3hob) , Most_Common(LCZ3hob), np.median(LCZ3hob[LCZ3hob<=10.]), np.mean(LCZ3hob[LCZ3hob<=10.]), Most_Common(LCZ3hob[LCZ3hob<=10.])]\n",
    "# [9.0, 10.448373685497671, 8.5, 8.5, 8.816344086021505, 8.5]\n",
    "\n",
    "# np.median(LCZ3hob[LCZ3hob<=10.]) = 8.5\n",
    "# np.std(LCZ3hob[LCZ3hob<=10.]) = 0.59"
   ]
  },
  {
   "cell_type": "markdown",
   "metadata": {},
   "source": [
    "Building Height LCZ4"
   ]
  },
  {
   "cell_type": "code",
   "execution_count": null,
   "metadata": {},
   "outputs": [],
   "source": [
    "LCZ4hob = pd.read_csv('hob_LCZ4.txt',header=None)[0]\n",
    "#[np.median(LCZ4hob), np.mean(LCZ4hob) , Most_Common(LCZ4hob), np.median(LCZ4hob[LCZ4hob>=25.]), np.mean(LCZ4hob[LCZ4hob>=25.]), Most_Common(LCZ4hob[LCZ4hob>=25.])]\n",
    "#[13.5, 21.5621546961326, 9.0, 35.0, 48.997894736842106, 30.0]\n",
    "\n",
    "# np.median(LCZ4hob[LCZ4hob>=25.]) = 35.0\n",
    "# np.std(LCZ4hob[LCZ4hob>=25.]) = 44.46"
   ]
  },
  {
   "cell_type": "markdown",
   "metadata": {},
   "source": [
    "Building Height LCZ6"
   ]
  },
  {
   "cell_type": "code",
   "execution_count": null,
   "metadata": {},
   "outputs": [],
   "source": [
    "# To read in the file: \n",
    "LCZ6_001 = pd.read_csv('hob_LCZ6_001.txt',header=None)[0]\n",
    "LCZ6_002 = pd.read_csv('hob_LCZ6_002.txt',header=None)[0]\n",
    "LCZ6_003 = pd.read_csv('hob_LCZ6_003.txt',header=None)[0]\n",
    "LCZ6_004 = pd.read_csv('hob_LCZ6_004.txt',header=None)[0]\n",
    "LCZ6_005 = pd.read_csv('hob_LCZ6_005.txt',header=None)[0]\n",
    "LCZ6_006 = pd.read_csv('hob_LCZ6_006.txt',header=None)[0]\n",
    "LCZ6hob = LCZ6_001.append(LCZ6_002)\n",
    "LCZ6hob = LCZ6hob.append(LCZ6_003)\n",
    "LCZ6hob = LCZ6hob.append(LCZ6_004)\n",
    "LCZ6hob = LCZ6hob.append(LCZ6_005)\n",
    "LCZ6hob = LCZ6hob.append(LCZ6_006)\n",
    "\n",
    "#[np.median(LCZ6hob), np.mean(LCZ6hob) , Most_Common(LCZ6hob), np.median(LCZ6hob[LCZ6hob<=10.]), np.mean(LCZ6hob[LCZ6hob<=10.]), Most_Common(LCZ6hob[LCZ6hob<=10.])]\n",
    "# [9.0, 9.694770860323752, 8.5, 9.0, 8.865571028899208, 8.5]\n",
    "\n",
    "# np.median(LCZ6hob[LCZ6hob<=10.]) = 9.0\n",
    "# np.std(LCZ6hob[LCZ6hob<=10.]) = 0.54"
   ]
  },
  {
   "cell_type": "markdown",
   "metadata": {},
   "source": [
    "Building Height LCZ7"
   ]
  },
  {
   "cell_type": "code",
   "execution_count": null,
   "metadata": {},
   "outputs": [],
   "source": [
    "LCZ7hob = pd.read_csv('hob_LCZ7.txt',header=None)[0]\n",
    "#[np.median(LCZ7hob), np.mean(LCZ7hob) , Most_Common(LCZ7hob), np.median(LCZ7hob[LCZ7hob<5.]), np.mean(LCZ7hob[LCZ7hob<5.]), Most_Common(LCZ7hob[LCZ7hob<5.])]\n",
    "# [10.0, 11.337538580246914, 10.0, 4.0, 3.5, 4.0]\n",
    "\n",
    "# np.median(LCZ7hob[LCZ7hob<5.]) = 4.0\n",
    "# np.std(LCZ7hob[LCZ7hob<5.]) = 1.32"
   ]
  },
  {
   "cell_type": "markdown",
   "metadata": {},
   "source": [
    "Building Height LCZ8"
   ]
  },
  {
   "cell_type": "code",
   "execution_count": null,
   "metadata": {},
   "outputs": [],
   "source": [
    "LCZ8hob = pd.read_csv('hob_LCZ8.txt',header=None)[0]\n",
    "#[np.median(LCZ8hob), np.mean(LCZ8hob) , Most_Common(LCZ8hob), np.median(LCZ8hob[LCZ8hob<=10.]), np.mean(LCZ8hob[LCZ8hob<=10.]), Most_Common(LCZ8hob[LCZ8hob<=10.])]\n",
    "# [12.0, 18.017186488934886, 12.0, 9.0, 8.478608695652175, 8.5]\n",
    "\n",
    "# np.median(LCZ8hob[LCZ8hob<=10.]) = 9.0\n",
    "# np.std(LCZ8hob[LCZ8hob<=10.]) = 2.18"
   ]
  },
  {
   "cell_type": "markdown",
   "metadata": {},
   "source": [
    "Building Height LCZ9"
   ]
  },
  {
   "cell_type": "code",
   "execution_count": null,
   "metadata": {},
   "outputs": [],
   "source": [
    "# To read in the file: \n",
    "LCZ9_001 = pd.read_csv('hob_LCZ9_001.txt',header=None)[0]\n",
    "LCZ9_002 = pd.read_csv('hob_LCZ9_002.txt',header=None)[0]\n",
    "LCZ9_003 = pd.read_csv('hob_LCZ9_003.txt',header=None)[0]\n",
    "LCZ9_004 = pd.read_csv('hob_LCZ9_004.txt',header=None)[0]\n",
    "LCZ9_005 = pd.read_csv('hob_LCZ9_005.txt',header=None)[0]\n",
    "LCZ9_006 = pd.read_csv('hob_LCZ9_006.txt',header=None)[0]\n",
    "LCZ9hob = LCZ9_001.append(LCZ9_002)\n",
    "LCZ9hob = LCZ9hob.append(LCZ9_003)\n",
    "LCZ9hob = LCZ9hob.append(LCZ9_004)\n",
    "LCZ9hob = LCZ9hob.append(LCZ9_005)\n",
    "LCZ9hob = LCZ9hob.append(LCZ9_006)\n",
    "\n",
    "#[np.median(LCZ9hob), np.mean(LCZ9hob) , Most_Common(LCZ9hob), np.median(LCZ9hob[LCZ9hob<=10.]), np.mean(LCZ9hob[LCZ9hob<=10.]), Most_Common(LCZ9hob[LCZ9hob<=10.])]\n",
    "# [10.0, 10.116713796955734, 10.0, 10.0, 9.545487319997529, 10.0]\n",
    "\n",
    "# np.median(LCZ9hob[LCZ9hob<=10.]) = 10.0\n",
    "# np.std(LCZ9hob[LCZ9hob<=10.]) = 0.60"
   ]
  },
  {
   "cell_type": "markdown",
   "metadata": {},
   "source": [
    "Building Height LCZ10"
   ]
  },
  {
   "cell_type": "code",
   "execution_count": null,
   "metadata": {},
   "outputs": [],
   "source": [
    "LCZ10hob = pd.read_csv('hob_LCZ10.txt',header=None)[0]\n",
    "#[np.median(LCZ10hob), np.mean(LCZ10hob) , Most_Common(LCZ10hob), np.median(LCZ10hob[LCZ10hob<=15.]), np.mean(LCZ10hob[LCZ10hob<=15.]), Most_Common(LCZ10hob[LCZ10hob<=15.])]\n",
    "#[12.0, 18.703164239075843, 12.0, 11.0, 10.586800334168755, 12.0]\n",
    "\n",
    "# np.median(LCZ10hob[LCZ10hob<=15.]) = 11.0\n",
    "# np.std(LCZ10hob[LCZ10hob<=15.]) = 2.47"
   ]
  },
  {
   "cell_type": "markdown",
   "metadata": {},
   "source": [
    "## Estimate the median vegetation fraction for each LCZ"
   ]
  },
  {
   "cell_type": "code",
   "execution_count": null,
   "metadata": {},
   "outputs": [],
   "source": [
    "vffile = nc.Dataset('%s/VegCover_MMB_GSR_2016.nc' %(maindir),'r')\n",
    "vf = vffile.variables['Band1'][:]"
   ]
  },
  {
   "cell_type": "code",
   "execution_count": null,
   "metadata": {},
   "outputs": [],
   "source": [
    "from pyproj import Proj, transform\n",
    "\n",
    "# Create lat/lon coordinates\n",
    "inProj = Proj(\"+proj=utm +zone=56 +south +ellps=GRS80 +units=m +no_defs\")\n",
    "outProj = Proj('epsg:4326')\n",
    "\n",
    "xmin = 237834.1\n",
    "xmax = 346303.2\n",
    "ymin = 6198129\n",
    "ymax =  6316143\n",
    "dxdy = 433.8764\n",
    "\n",
    "lat1,lon1 = transform(inProj,outProj,xmin,ymax) # lon: 150.18566857987537 lat: -33.26191844972887\n",
    "lat2,lon2 = transform(inProj,outProj,xmax,ymin) # lon: 151.32894056697486 lat: -34.34676997733085\n",
    "lat1b,lon1b = transform(inProj,outProj,(xmin+dxdy),(ymax-dxdy)) # lon: 150.19019608390914 lat: -33.265932596537944\n",
    "dx = 0.004573 #lon1b-lon1 # 0.004527504033774221 \n",
    "dy = (lat1b-lat1)*-1 # -0.004014146809076635\n"
   ]
  },
  {
   "cell_type": "code",
   "execution_count": null,
   "metadata": {},
   "outputs": [],
   "source": [
    "# Create new grid \n",
    "vflat = np.arange(lat2,(lat1+dy),dy)\n",
    "vflon = np.arange(lon1,(lon2-dx),dx)\n",
    "vflon2d,vflat2d = np.meshgrid(vflon,vflat)\n"
   ]
  },
  {
   "cell_type": "code",
   "execution_count": null,
   "metadata": {},
   "outputs": [],
   "source": [
    "plot_LCZs(vf,vflat,vflon,100,1)"
   ]
  },
  {
   "cell_type": "code",
   "execution_count": null,
   "metadata": {},
   "outputs": [],
   "source": [
    "# Regrid the vegetation fraction\n",
    "vf_regrid=np.ones((lat2d.shape[0],lat2d.shape[1]))\n",
    "vf_regrid[:,:]=scipy.interpolate.griddata((vflon2d.flatten(),vflat2d.flatten()),\n",
    "                                              vf[:,:].flatten(),coord_1di.T,method='nearest').reshape(lon2d.shape)\n",
    "vf1d = np.ma.masked_where(vf_regrid.flatten()>= 1e+20,vf_regrid.flatten())"
   ]
  },
  {
   "cell_type": "code",
   "execution_count": null,
   "metadata": {},
   "outputs": [],
   "source": [
    "for ll in [1,2,3,4,6,7,8,9,10]:\n",
    "    \n",
    "    LCZ = list(np.where(mamergeLCZ.flatten() == ll)[0])\n",
    "    print('Vegetation Fraction LCZ%s' %(ll))\n",
    "    print(np.round(np.median(vf1d[LCZ]),1),np.round(np.mean(vf1d[LCZ]),1))\n",
    "    del LCZ"
   ]
  },
  {
   "cell_type": "markdown",
   "metadata": {},
   "source": [
    "Vegetation Fraction LCZ1\n",
    "3.7\n",
    "\n",
    "Vegetation Fraction LCZ2\n",
    "17.8\n",
    "\n",
    "Vegetation Fraction LCZ3\n",
    "25.9\n",
    "\n",
    "Vegetation Fraction LCZ4\n",
    "8.9\n",
    "\n",
    "Vegetation Fraction LCZ6\n",
    "32.7\n",
    "\n",
    "Vegetation Fraction LCZ7\n",
    "60.4\n",
    "\n",
    "Vegetation Fraction LCZ8\n",
    "22.4\n",
    "\n",
    "Vegetation Fraction LCZ9\n",
    "73.1\n",
    "\n",
    "Vegetation Fraction LCZ10\n",
    "23.4"
   ]
  },
  {
   "cell_type": "markdown",
   "metadata": {},
   "source": [
    "## Estimate median surface albedo per LCZ"
   ]
  },
  {
   "cell_type": "code",
   "execution_count": null,
   "metadata": {},
   "outputs": [],
   "source": [
    "import glob as glob\n",
    "albdir = '/g/data/u39/public/data/modis/lpdaac-mosaics-cmar/v2-nc4/aust/MCD43A3.005/'\n",
    "alblist = glob.glob('%s/2016.[0-1][0-2].*/MCD43A3.2016.*.aust.005.albedo_0300_5000nm.nc' %(albdir))\n",
    "nfiles = len(alblist)\n",
    "\n",
    "# Missing value 32767\n",
    "bbox = [lonN, lonX, latN, latX]\n",
    "\n",
    "for ff in range(nfiles):\n",
    "    \n",
    "    albfile = nc.Dataset(alblist[ff],'r')\n",
    "    \n",
    "    if ff == 0:\n",
    "        alblat = albfile.variables['latitude'][:]\n",
    "        alblon = albfile.variables['longitude'][:]\n",
    "        alblon2d,alblat2d = np.meshgrid(alblon,alblat)\n",
    "        i0,i1,j0,j1 = bbox2ij(alblon2d,alblat2d,bbox)\n",
    "        albedo = np.empty((nfiles,alblat[j0:j1].shape[0],alblon[i0:i1].shape[0]),dtype=np.float64)\n",
    "        \n",
    "    albedo[ff,:,:] = (albfile.variables['albedo_black_sky_0300_5000nm'][0,j0:j1,i0:i1] + albfile.variables['albedo_white_sky_0300_5000nm'][0,j0:j1,i0:i1]) / 2.\n",
    "    \n",
    "    albfile.close()\n",
    "    \n",
    "albedo_ma = np.ma.masked_where(albedo == 32767.,albedo)"
   ]
  },
  {
   "cell_type": "code",
   "execution_count": null,
   "metadata": {},
   "outputs": [],
   "source": [
    "albmax = np.nanmax(albedo_ma,axis=0)\n",
    "albmin = np.nanmin(albedo_ma,axis=0)\n",
    "albavg = np.nanmean(albedo_ma,axis=0)\n",
    "\n",
    "# Regrid the albedo\n",
    "albmax_regrid=np.ones((lat2d.shape[0],lat2d.shape[1]))\n",
    "albmax_regrid[:,:]=scipy.interpolate.griddata((alblon2d[j0:j1,i0:i1].flatten(),alblat2d[j0:j1,i0:i1].flatten()),\n",
    "                                              albmax[:,:].flatten(),coord_1di.T,method='nearest').reshape(lon2d.shape)\n",
    "albmax1d = albmax_regrid.flatten()\n",
    "\n",
    "albmin_regrid=np.ones((lat2d.shape[0],lat2d.shape[1]))\n",
    "albmin_regrid[:,:]=scipy.interpolate.griddata((alblon2d[j0:j1,i0:i1].flatten(),alblat2d[j0:j1,i0:i1].flatten()),\n",
    "                                              albmin[:,:].flatten(),coord_1di.T,method='nearest').reshape(lon2d.shape)\n",
    "albmin1d = albmin_regrid.flatten()\n",
    "\n",
    "albavg_regrid=np.ones((lat2d.shape[0],lat2d.shape[1]))\n",
    "albavg_regrid[:,:]=scipy.interpolate.griddata((alblon2d[j0:j1,i0:i1].flatten(),alblat2d[j0:j1,i0:i1].flatten()),\n",
    "                                              albavg[:,:].flatten(),coord_1di.T,method='nearest').reshape(lon2d.shape)\n",
    "albavg1d = albavg_regrid.flatten()"
   ]
  },
  {
   "cell_type": "code",
   "execution_count": null,
   "metadata": {},
   "outputs": [],
   "source": [
    "for ll in np.arange(1,11,1):\n",
    "    \n",
    "    LCZ = list(np.where(mamergeLCZ.flatten() == ll)[0])\n",
    "    print('Albedo LCZ%s' %(ll))\n",
    "    print([np.round(np.median(albmin1d[LCZ]),3), np.round(np.mean(albmin1d[LCZ]),3),\n",
    "           np.round(np.median(albavg1d[LCZ]),3), np.round(np.mean(albavg1d[LCZ]),3), \n",
    "           np.round(np.median(albmax1d[LCZ]),3), np.round(np.mean(albmax1d[LCZ]),3)])\n",
    "    del LCZ\n"
   ]
  },
  {
   "cell_type": "markdown",
   "metadata": {},
   "source": [
    "Albedo LCZ X [median(min) mean(min) median(avg) mean(avg) median(max) mean(max)]\n",
    "\n",
    "Albedo LCZ1\n",
    "[0.076, 0.076, 0.089, 0.089, 0.107, 0.104]\n",
    "\n",
    "Albedo LCZ2\n",
    "[0.11, 0.101, 0.12, 0.113, 0.134, 0.128]\n",
    "\n",
    "Albedo LCZ3\n",
    "[0.125, 0.12, 0.134, 0.131, 0.146, 0.145]\n",
    "\n",
    "Albedo LCZ4\n",
    "[0.104, 0.098, 0.115, 0.11, 0.134, 0.125]\n",
    "\n",
    "Albedo LCZ5\n",
    "[nan, nan, nan, nan, nan, nan]\n",
    "\n",
    "Albedo LCZ6\n",
    "[0.124, 0.121, 0.135, 0.131, 0.148, 0.146]\n",
    "\n",
    "Albedo LCZ7\n",
    "[0.132, 0.124, 0.146, 0.137, 0.16, 0.153]\n",
    "\n",
    "Albedo LCZ8\n",
    "[0.133, 0.13, 0.145, 0.142, 0.158, 0.156]\n",
    "\n",
    "Albedo LCZ9\n",
    "[0.129, 0.128, 0.142, 0.14, 0.156, 0.155]\n",
    "\n",
    "Albedo LCZ10\n",
    "[0.135, 0.135, 0.147, 0.147, 0.161, 0.162]\n",
    "\n"
   ]
  },
  {
   "cell_type": "markdown",
   "metadata": {},
   "source": [
    "## Estimate for anthropogenic heat\n",
    "\n",
    "See http://www.sciencedirect.com/science/article/pii/S1352231016309232 and access data via http://www.ide.titech.ac.jp/~kandalab/ja/news/2016/AHE_release_20161212_files/AHE_release_20161212.htm\n",
    "\n",
    "Corner Coordinates:\n",
    "\n",
    "- Upper Left  ( 150.3750000, -33.0291661) (150d22'30.00\"E, 33d 1'45.00\"S)\n",
    "\n",
    "- Lower Left  ( 150.3750000, -34.6958328) (150d22'30.00\"E, 34d41'45.00\"S)\n",
    "\n",
    "- Upper Right ( 152.0416667, -33.0291661) (152d 2'30.00\"E, 33d 1'45.00\"S)\n",
    "\n",
    "- Lower Right ( 152.0416667, -34.6958328) (152d 2'30.00\"E, 34d41'45.00\"S)\n"
   ]
  },
  {
   "cell_type": "code",
   "execution_count": null,
   "metadata": {},
   "outputs": [],
   "source": [
    "from PIL import Image\n",
    "\n",
    "heatdir = '/g/data/w97/azh561/urban/input_parameters/energy_use/sydney/'\n",
    "#heatlist = glob.glob('%s/???_ahe_[0-9][0-9]_trimmed.tif' %(heatdir))\n",
    "heatlist = glob.glob('%s/dec_ahe_[0-9][0-9]_trimmed.tif' %(heatdir))\n",
    "janlist = glob.glob('%s/jan_ahe_[0-9][0-9]_trimmed.tif' %(heatdir))\n",
    "feblist = glob.glob('%s/feb_ahe_[0-9][0-9]_trimmed.tif' %(heatdir))\n",
    "heatlist = np.append(heatlist,janlist)\n",
    "heatlist = np.append(heatlist,feblist)\n",
    "nfiles = len(heatlist) # 288 ANN # 72 for DJF\n",
    "\n",
    "for ff in range(nfiles):\n",
    "    \n",
    "    im = np.array(Image.open(heatlist[ff]))\n",
    "    \n",
    "    if ff == 0:\n",
    "        heat = np.empty((nfiles,im.shape[0],im.shape[1]),dtype=np.float64) # [288, 200, 200]\n",
    "        \n",
    "    heat[ff,:,:] = im\n",
    "    \n",
    "    del im\n",
    "    \n",
    "heat_ma = np.ma.masked_where(heat < 0., heat)"
   ]
  },
  {
   "cell_type": "code",
   "execution_count": null,
   "metadata": {},
   "outputs": [],
   "source": [
    "# Create new grid - original on 30 arc-minute resolution\n",
    "heatlat = np.arange(-34.6958328,-33.0374993,0.0083333)\n",
    "heatlon = np.arange(150.3750000,152.0333334,0.0083333)\n",
    "heatlon2d,heatlat2d = np.meshgrid(heatlon,heatlat)\n",
    "\n",
    "heatmax = np.nanmax(heat_ma,axis=0)\n",
    "heatmin = np.nanmin(heat_ma,axis=0)\n",
    "heatmed = np.median(heat_ma,axis=0)\n",
    "\n",
    "# Regrid the anthropogenic heat\n",
    "heatmax_regrid=np.ones((lat2d.shape[0],lat2d.shape[1]))\n",
    "heatmax_regrid[:,:]=scipy.interpolate.griddata((heatlon2d.flatten(),heatlat2d.flatten()),\n",
    "                                              heatmax[:,:].flatten(),coord_1di.T,method='nearest').reshape(lon2d.shape)\n",
    "heatmax1d = np.ma.masked_where(heatmax_regrid.flatten()>= 1e+20,heatmax_regrid.flatten())\n",
    "\n",
    "heatmin_regrid=np.ones((lat2d.shape[0],lat2d.shape[1]))\n",
    "heatmin_regrid[:,:]=scipy.interpolate.griddata((heatlon2d.flatten(),heatlat2d.flatten()),\n",
    "                                              heatmin[:,:].flatten(),coord_1di.T,method='nearest').reshape(lon2d.shape)\n",
    "heatmin1d = np.ma.masked_where(heatmin_regrid.flatten()>= 1e+20,heatmin_regrid.flatten())\n",
    "\n",
    "heatmed_regrid=np.ones((lat2d.shape[0],lat2d.shape[1]))\n",
    "heatmed_regrid[:,:]=scipy.interpolate.griddata((heatlon2d.flatten(),heatlat2d.flatten()),\n",
    "                                              heatmed[:,:].flatten(),coord_1di.T,method='nearest').reshape(lon2d.shape)\n",
    "heatmed1d = np.ma.masked_where(heatmed_regrid.flatten()>= 1e+20,heatmed_regrid.flatten())\n",
    "\n"
   ]
  },
  {
   "cell_type": "code",
   "execution_count": null,
   "metadata": {},
   "outputs": [],
   "source": [
    "for ll in [1,2,3,4,6,7,8,9,10]:\n",
    "    \n",
    "    LCZ = list(np.where(mamergeLCZ.flatten() == ll)[0])\n",
    "    print('Anthropogenic Heat LCZ%s' %(ll))\n",
    "    print([np.round(np.median(heatmin1d[LCZ]),1), np.round(np.mean(heatmin1d[LCZ]),1), np.round(np.max(heatmin1d[LCZ]),1),\n",
    "           np.round(np.median(heatmed1d[LCZ]),1), np.round(np.mean(heatmed1d[LCZ]),1), np.round(np.max(heatmed1d[LCZ]),1),\n",
    "           np.round(np.median(heatmax1d[LCZ]),1), np.round(np.mean(heatmax1d[LCZ]),1), np.round(np.max(heatmax1d[LCZ]),1)])\n",
    "    del LCZ\n"
   ]
  },
  {
   "cell_type": "markdown",
   "metadata": {},
   "source": [
    "Anthropogenic Heat LCZ X [median(min) mean(min) max(min) median(avg) mean(avg) max(avg) median(max) mean(max) max(max)]\n",
    "\n",
    "Anthropogenic Heat LCZ1\n",
    "[2.6, 3.3, 15.4, 5.9, 9.9, 54.0, 16.2, 20.3, 95.0]\n",
    "\n",
    "Anthropogenic Heat LCZ2\n",
    "[2.7, 3.3, 15.4, 5.3, 9.5, 54.0, 16.8, 20.1, 95.0]\n",
    "\n",
    "Anthropogenic Heat LCZ3\n",
    "[1.8, 2.0, 15.4, 5.2, 6.6, 54.0, 11.2, 12.4, 95.0]\n",
    "\n",
    "Anthropogenic Heat LCZ4\n",
    "[2.6, 2.9, 15.4, 6.5, 9.2, 54.0, 16.3, 17.7, 95.0]\n",
    "\n",
    "Anthropogenic Heat LCZ6\n",
    "[1.5, 1.7, 15.4, 2.7, 5.5, 54.0, 9.4, 10.5, 95.0]\n",
    "\n",
    "Anthropogenic Heat LCZ7\n",
    "[0.1, 0.9, 12.1, 0.2, 3.0, 42.5, 0.4, 5.4, 74.8]\n",
    "\n",
    "Anthropogenic Heat LCZ8\n",
    "[1.7, 1.9, 15.4, 5.1, 6.5, 54.0, 10.7, 11.7, 95.0]\n",
    "\n",
    "Anthropogenic Heat LCZ9\n",
    "[0.1, 0.6, 9.2, 0.2, 2.0, 33.7, 0.4, 3.6, 56.7]\n",
    "\n",
    "Anthropogenic Heat LCZ10\n",
    "[1.9, 1.9, 10.4, 5.6, 6.5, 36.3, 11.4, 11.8, 63.9]"
   ]
  },
  {
   "cell_type": "code",
   "execution_count": null,
   "metadata": {},
   "outputs": [],
   "source": []
  }
 ],
 "metadata": {
  "kernelspec": {
   "display_name": "Python 3",
   "language": "python",
   "name": "python3"
  },
  "language_info": {
   "codemirror_mode": {
    "name": "ipython",
    "version": 3
   },
   "file_extension": ".py",
   "mimetype": "text/x-python",
   "name": "python",
   "nbconvert_exporter": "python",
   "pygments_lexer": "ipython3",
   "version": "3.8.6"
  }
 },
 "nbformat": 4,
 "nbformat_minor": 2
}
