{
 "cells": [
  {
   "cell_type": "code",
   "execution_count": null,
   "metadata": {},
   "outputs": [],
   "source": [
    "##!/usr/bin/env python\n",
    "\"\"\"plot_determine_HW_timing_AWS.py\n",
    "\n",
    "Script reads in the AWS data and determines the HW timing\n",
    "\n",
    "Author: Annette L Hirsch @ CLEX, UNSW. Sydney (Australia)\n",
    "email: a.hirsch@unsw.edu.au\n",
    "Created: Thu Jul 30 14:26:12 AEST 2020\n",
    "\n",
    "\"\"\""
   ]
  },
  {
   "cell_type": "markdown",
   "metadata": {},
   "source": [
    "Load Packages"
   ]
  },
  {
   "cell_type": "code",
   "execution_count": 1,
   "metadata": {},
   "outputs": [],
   "source": [
    "#from __future__ import division\n",
    "import numpy as np\n",
    "import pandas as pd\n",
    "import math\n",
    "import netCDF4 as nc\n",
    "import sys\n",
    "import os\n",
    "import glob as glob\n",
    "import matplotlib.pyplot as plt\n",
    "import matplotlib as mpl\n",
    "import xarray as xr\n",
    "from matplotlib.collections import LineCollection\n",
    "import common_functions as cf\n",
    "import datetime as dt\n",
    "import wrf\n",
    "from scipy import stats\n"
   ]
  },
  {
   "cell_type": "markdown",
   "metadata": {},
   "source": [
    "## AWS Data"
   ]
  },
  {
   "cell_type": "code",
   "execution_count": 2,
   "metadata": {},
   "outputs": [],
   "source": [
    "# Dates to determine the heatwaves from\n",
    "sdate = \"2017-01-01\"\n",
    "edate = \"2017-02-28\"\n",
    "\n",
    "# Baseline period for calculating the heatwaves\n",
    "#bsdate = \"1980-01-01\"\n",
    "#bedate = \"2011-01-01\" # 1 extra day for indexing purposes\n",
    "bsdate = \"1961-01-01\"\n",
    "bedate = \"1991-01-01\" # 1 extra day for indexing purposes\n",
    "\n",
    "# Simulation Period\n",
    "syear = 2017\n",
    "smon = 1\n",
    "sday = 2 \n",
    "eyear = 2017\n",
    "emon = 2\n",
    "eday = 28  # Add an extra day so that the 27th Feb data is included\n",
    "simlen = dt.datetime(eyear,emon,eday) - dt.datetime(syear,smon,sday)\n",
    "nst = (simlen.days) # No. simulations days \n"
   ]
  },
  {
   "cell_type": "markdown",
   "metadata": {},
   "source": [
    "Data Attributes"
   ]
  },
  {
   "cell_type": "code",
   "execution_count": 3,
   "metadata": {},
   "outputs": [],
   "source": [
    "awsdir = '/g/data/w97/azh561/WRF/obs/AWS_dailydata'\n",
    "awsnum = ['066037']\n",
    "awsnm = ['Sydney Airport']"
   ]
  },
  {
   "cell_type": "markdown",
   "metadata": {},
   "source": [
    "Read in the daily data"
   ]
  },
  {
   "cell_type": "code",
   "execution_count": 4,
   "metadata": {},
   "outputs": [],
   "source": [
    "tmaxfile = \"%s/IDCJAC0010_066037_1800_Data_tmax.csv\" %(awsdir)\n",
    "tmaxdf = pd.read_csv(tmaxfile)\n",
    "tminfile = \"%s/IDCJAC0011_066037_1800_Data_tmin.csv\" %(awsdir)\n",
    "tmindf = pd.read_csv(tminfile)"
   ]
  },
  {
   "cell_type": "code",
   "execution_count": 5,
   "metadata": {},
   "outputs": [],
   "source": [
    "tmaxdf.columns = [\"a\",\"No\",\"year\",\"month\",\"day\",\"tmax\",\"tmax_no\",\"tmax_qc\"]\n",
    "tmaxdf['date'] = pd.to_datetime(tmaxdf[['year','month','day']])\n",
    "tmindf.columns = [\"a\",\"No\",\"year\",\"month\",\"day\",\"tmin\",\"tmin_no\",\"tmin_qc\"]\n",
    "tmindf['date'] = pd.to_datetime(tmaxdf[['year','month','day']])"
   ]
  },
  {
   "cell_type": "markdown",
   "metadata": {},
   "source": [
    "Extract the baseline"
   ]
  },
  {
   "cell_type": "code",
   "execution_count": 6,
   "metadata": {},
   "outputs": [],
   "source": [
    "tmax_base = tmaxdf.loc[(tmaxdf['date'] > bsdate) & (tmaxdf['date'] < bedate)]\n",
    "tmin_base = tmindf.loc[(tmindf['date'] > bsdate) & (tmindf['date'] < bedate)]"
   ]
  },
  {
   "cell_type": "code",
   "execution_count": 9,
   "metadata": {},
   "outputs": [],
   "source": [
    "ndays = 10956 #11322\n",
    "nyrs = 30 #31\n",
    "tave = np.empty((ndays),dtype=np.float64)\n",
    "for dd in range(ndays):\n",
    "    tave[dd] = (tmax_base['tmax'].iloc[dd] + tmin_base['tmin'].iloc[dd])/2\n",
    "    \n",
    "# Remove leap days\n",
    "months = tmax_base['month']\n",
    "days = tmax_base['day']\n",
    "tave = tave[((months==2) & (days==29))==False]"
   ]
  },
  {
   "cell_type": "markdown",
   "metadata": {},
   "source": [
    "Calculate the calendar day 90th percentile"
   ]
  },
  {
   "cell_type": "code",
   "execution_count": 10,
   "metadata": {},
   "outputs": [],
   "source": [
    "def calc_percentile(tave,nyears,nwindow=15):\n",
    "    \n",
    "    windowrange=np.zeros((365,),dtype=np.bool)\n",
    "    windowrange[:int(np.ceil(nwindow/2)+1)]=True\n",
    "    windowrange[int(-np.floor(nwindow/2)):]=True\n",
    "    windowrange=np.tile(windowrange,nyears)\n",
    "\n",
    "    pct_calc=np.ones((365),np.float64)\n",
    "    for d in range(365):\n",
    "        pct_calc[d]=np.nanpercentile(tave[windowrange[:-1]==True],90,interpolation='nearest')\n",
    "        windowrange=np.roll(windowrange,1)\n",
    "\n",
    "    return pct_calc\n"
   ]
  },
  {
   "cell_type": "code",
   "execution_count": 11,
   "metadata": {},
   "outputs": [],
   "source": [
    "pctthres = calc_percentile(tave,nyrs,15)"
   ]
  },
  {
   "cell_type": "markdown",
   "metadata": {},
   "source": [
    "Get Jan-Feb 2017 data"
   ]
  },
  {
   "cell_type": "code",
   "execution_count": 12,
   "metadata": {},
   "outputs": [],
   "source": [
    "tmax2017 = tmaxdf.loc[(tmaxdf['date'] > sdate) & (tmaxdf['date'] < edate)]\n",
    "tmin2017 = tmindf.loc[(tmindf['date'] > sdate) & (tmindf['date'] < edate)]"
   ]
  },
  {
   "cell_type": "code",
   "execution_count": 13,
   "metadata": {},
   "outputs": [],
   "source": [
    "# Calculate the daily average \n",
    "tave2017 = np.empty((nst),dtype=np.float64)\n",
    "for dd in range(nst):\n",
    "    tave2017[dd] = (tmax2017['tmax'].iloc[dd] + tmin2017['tmin'].iloc[dd])/2\n",
    "    \n",
    "# Calculate the 3-day average\n",
    "tave_3days = np.empty((nst),dtype=np.float64)\n",
    "for t in range(2,nst):\n",
    "    tave_3days[t]=np.mean(tave2017[t-2:t+1])\n",
    "    \n",
    "# Calculate the EHFsig\n",
    "EHFsig = np.empty((nst),dtype=np.float64)\n",
    "for t in range(nst):\n",
    "    EHFsig[t]=tave_3days[t] - pctthres[t]\n",
    "    \n",
    "# Convert EHFsig to array of zeros and ones\n",
    "EHFsig[EHFsig<0]=0\n",
    "EHFsig[EHFsig>0]=1"
   ]
  },
  {
   "cell_type": "code",
   "execution_count": 14,
   "metadata": {},
   "outputs": [
    {
     "name": "stdout",
     "output_type": "stream",
     "text": [
      "2017-01-10 00:00:00\n",
      "2017-01-11 00:00:00\n",
      "2017-01-12 00:00:00\n",
      "2017-01-13 00:00:00\n",
      "2017-01-14 00:00:00\n",
      "2017-01-15 00:00:00\n",
      "2017-01-16 00:00:00\n",
      "2017-01-17 00:00:00\n",
      "2017-01-18 00:00:00\n",
      "2017-01-19 00:00:00\n",
      "2017-01-20 00:00:00\n",
      "2017-01-24 00:00:00\n",
      "2017-01-25 00:00:00\n",
      "2017-01-30 00:00:00\n",
      "2017-01-31 00:00:00\n",
      "2017-02-01 00:00:00\n",
      "2017-02-05 00:00:00\n",
      "2017-02-06 00:00:00\n",
      "2017-02-07 00:00:00\n",
      "2017-02-10 00:00:00\n",
      "2017-02-11 00:00:00\n",
      "2017-02-12 00:00:00\n",
      "2017-02-13 00:00:00\n",
      "2017-02-17 00:00:00\n",
      "2017-02-18 00:00:00\n"
     ]
    }
   ],
   "source": [
    "for t in range(nst):\n",
    "    if EHFsig[t] == 1:\n",
    "        print(tmax2017['date'].iloc[t])"
   ]
  },
  {
   "cell_type": "markdown",
   "metadata": {},
   "source": [
    "### For Sydney Airport the heatwaves days are:\n",
    "    2017-01-11 to 2017-01-14\n",
    "    2017-01-30 to 2017-02-01\n",
    "    2017-02-05 to 2017-01-07\n",
    "    2017-02-10 to 2017-01-12"
   ]
  },
  {
   "cell_type": "code",
   "execution_count": null,
   "metadata": {},
   "outputs": [],
   "source": []
  }
 ],
 "metadata": {
  "kernelspec": {
   "display_name": "Python 3",
   "language": "python",
   "name": "python3"
  },
  "language_info": {
   "codemirror_mode": {
    "name": "ipython",
    "version": 3
   },
   "file_extension": ".py",
   "mimetype": "text/x-python",
   "name": "python",
   "nbconvert_exporter": "python",
   "pygments_lexer": "ipython3",
   "version": "3.7.6"
  }
 },
 "nbformat": 4,
 "nbformat_minor": 4
}
